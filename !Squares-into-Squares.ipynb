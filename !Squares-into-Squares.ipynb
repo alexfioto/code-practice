{
 "cells": [
  {
   "cell_type": "markdown",
   "metadata": {},
   "source": []
  },
  {
   "cell_type": "markdown",
   "metadata": {},
   "source": [
    "# Squares into Squares"
   ]
  },
  {
   "cell_type": "code",
   "execution_count": 51,
   "metadata": {},
   "outputs": [],
   "source": [
    "def decompose(n):\n",
    "    squares = [x**2 for x in range(1, n)]\n",
    "    target = n ** 2\n",
    "    output = []\n",
    "    for num in squares[::-1]:\n",
    "        if target // num > 0:\n",
    "            output.append(int(num ** .5))\n",
    "            target -= num\n",
    "    output.reverse()\n",
    "    if target== 0:\n",
    "        return output\n",
    "    else:\n",
    "        return None\n",
    "    "
   ]
  },
  {
   "cell_type": "code",
   "execution_count": 52,
   "metadata": {},
   "outputs": [],
   "source": [
    "decompose(8)"
   ]
  },
  {
   "cell_type": "code",
   "execution_count": 55,
   "metadata": {},
   "outputs": [],
   "source": [
    "def decompose(n):\n",
    "    global_target = n**2\n",
    "    target = n**2\n",
    "    squares = [x**2 for x in range(1, n)]\n",
    "    output = []\n",
    "    subtotal = 0\n",
    "    for num in squares[::-1]:\n",
    "        target - num\n",
    "        if target > 0:\n",
    "            output.append(int(num**.5))\n",
    "            subtotal += num\n",
    "            target -= num\n",
    "        elif target < 0:\n",
    "            target = global_target - subtotal\n",
    "        else:\n",
    "            break\n",
    "    \n",
    "    output.reverse()         \n",
    "    return (output, target)"
   ]
  },
  {
   "cell_type": "code",
   "execution_count": 58,
   "metadata": {},
   "outputs": [
    {
     "data": {
      "text/plain": [
       "([9, 10], -60)"
      ]
     },
     "execution_count": 58,
     "metadata": {},
     "output_type": "execute_result"
    }
   ],
   "source": [
    "decompose(11)"
   ]
  },
  {
   "cell_type": "code",
   "execution_count": 73,
   "metadata": {},
   "outputs": [],
   "source": [
    "def decompose(n):\n",
    "    if n**2 == 1:\n",
    "        return 1\n",
    "    else:\n",
    "        print()\n",
    "        return decompose(n-1) * 1\n"
   ]
  },
  {
   "cell_type": "code",
   "execution_count": 75,
   "metadata": {},
   "outputs": [
    {
     "data": {
      "text/plain": [
       "1"
      ]
     },
     "execution_count": 75,
     "metadata": {},
     "output_type": "execute_result"
    }
   ],
   "source": [
    "decompose(5)"
   ]
  },
  {
   "cell_type": "code",
   "execution_count": null,
   "metadata": {},
   "outputs": [],
   "source": [
    "25"
   ]
  }
 ],
 "metadata": {
  "kernelspec": {
   "display_name": "Python 3",
   "language": "python",
   "name": "python3"
  },
  "language_info": {
   "codemirror_mode": {
    "name": "ipython",
    "version": 3
   },
   "file_extension": ".py",
   "mimetype": "text/x-python",
   "name": "python",
   "nbconvert_exporter": "python",
   "pygments_lexer": "ipython3",
   "version": "3.7.7"
  }
 },
 "nbformat": 4,
 "nbformat_minor": 4
}
