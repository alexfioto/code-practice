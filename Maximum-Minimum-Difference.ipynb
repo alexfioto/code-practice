{
 "cells": [
  {
   "cell_type": "markdown",
   "metadata": {},
   "source": [
    "# The Maxiumum and Minimum Difference -- Challenge Version"
   ]
  },
  {
   "cell_type": "code",
   "execution_count": 1,
   "metadata": {},
   "outputs": [],
   "source": [
    "# Too long\n",
    "def max_and_min(arr1, arr2):\n",
    "    output = []\n",
    "    for i in arr1:\n",
    "        for j in arr2:\n",
    "            output.append(abs(j-i))\n",
    "    return(max(output), min(output))\n"
   ]
  },
  {
   "cell_type": "code",
   "execution_count": 19,
   "metadata": {},
   "outputs": [],
   "source": [
    "def max_and_min(arr1, arr2):\n",
    "    arr1 = list(set(sorted(arr1)))\n",
    "    arr2 = list(set(sorted(arr2)))\n",
    "    \n",
    "    diffs = []\n",
    "    \n",
    "    i = 0\n",
    "    j = len(arr2) - 1\n",
    "    \n",
    "    while i<=j:\n",
    "        output.append(abs(arr1[i] - arr2[j]))\n",
    "        \n",
    "\n",
    "    \n",
    "    \n",
    "    \n",
    "    "
   ]
  },
  {
   "cell_type": "code",
   "execution_count": 14,
   "metadata": {},
   "outputs": [],
   "source": [
    "a = [2, 7, 4, 2, 7, 9, 1]"
   ]
  },
  {
   "cell_type": "code",
   "execution_count": 15,
   "metadata": {},
   "outputs": [],
   "source": [
    "a = set(sorted(a))"
   ]
  },
  {
   "cell_type": "code",
   "execution_count": 17,
   "metadata": {},
   "outputs": [
    {
     "name": "stdout",
     "output_type": "stream",
     "text": [
      "1\n",
      "2\n",
      "4\n",
      "7\n",
      "9\n"
     ]
    }
   ],
   "source": [
    "for item in a:\n",
    "    print(item)"
   ]
  },
  {
   "cell_type": "code",
   "execution_count": 42,
   "metadata": {},
   "outputs": [],
   "source": [
    "def max_and_min(arr1, arr2):\n",
    "\n",
    "    arr1 = list(set(arr1))\n",
    "    arr2 = list(set(arr2))\n",
    "    \n",
    "    maximum = max([abs(max(arr1) - min(arr2)), abs((max(arr2) - min(arr1)))])\n",
    "    \n",
    "    minimum = maximum\n",
    "    \n",
    "    a = 0\n",
    "    b = 0\n",
    "    \n",
    "    minimum = 981704983720498172\n",
    "    for value in arr1:\n",
    "        print(value)\n",
    "        absolute_difference_function = lambda list_value : abs(list_value - value)\n",
    "        diff = abs(value -  min(arr2, key=absolute_difference_function))\n",
    "        if diff < minimum:\n",
    "            minimum = diff\n",
    "        \n",
    "\n",
    "    \n",
    "    while (a < len(arr1) and b < len(arr2)):\n",
    "        diff = abs(arr1[a] - arr2[b])\n",
    "        if diff < minimum:\n",
    "            minimum = diff\n",
    "        \n",
    "        if arr1[a] < arr2[b]:\n",
    "            a += 1\n",
    "        else:\n",
    "            b += 1\n",
    "\n",
    "    return (maximum, minimum)\n",
    "    \n"
   ]
  },
  {
   "cell_type": "code",
   "execution_count": 43,
   "metadata": {},
   "outputs": [
    {
     "name": "stdout",
     "output_type": "stream",
     "text": [
      "10\n",
      "3\n",
      "5\n"
     ]
    },
    {
     "data": {
      "text/plain": [
       "(17, 2)"
      ]
     },
     "execution_count": 43,
     "metadata": {},
     "output_type": "execute_result"
    }
   ],
   "source": [
    "max_and_min([3,10,5],[20,7,15,8])"
   ]
  },
  {
   "cell_type": "code",
   "execution_count": 18,
   "metadata": {},
   "outputs": [],
   "source": [
    "ar1 = sorted([-870,91,-141,-739,707,-803,-195,-963,99,861])\n",
    "ar2 = sorted([796,-468,889,58,-765,-901,-311,-399,-764,-181,841,-670,-589])\n"
   ]
  },
  {
   "cell_type": "code",
   "execution_count": 19,
   "metadata": {},
   "outputs": [
    {
     "data": {
      "text/plain": [
       "(1852, 20)"
      ]
     },
     "execution_count": 19,
     "metadata": {},
     "output_type": "execute_result"
    }
   ],
   "source": [
    "max_and_min(ar1, ar2)"
   ]
  },
  {
   "cell_type": "code",
   "execution_count": 20,
   "metadata": {},
   "outputs": [
    {
     "data": {
      "text/plain": [
       "[-963, -870, -803, -739, -195, -141, 91, 99, 707, 861]"
      ]
     },
     "execution_count": 20,
     "metadata": {},
     "output_type": "execute_result"
    }
   ],
   "source": [
    "ar1"
   ]
  },
  {
   "cell_type": "code",
   "execution_count": 21,
   "metadata": {},
   "outputs": [
    {
     "data": {
      "text/plain": [
       "[-901, -765, -764, -670, -589, -468, -399, -311, -181, 58, 796, 841, 889]"
      ]
     },
     "execution_count": 21,
     "metadata": {},
     "output_type": "execute_result"
    }
   ],
   "source": [
    "ar2"
   ]
  },
  {
   "cell_type": "code",
   "execution_count": 4,
   "metadata": {},
   "outputs": [
    {
     "data": {
      "text/plain": [
       "14"
      ]
     },
     "execution_count": 4,
     "metadata": {},
     "output_type": "execute_result"
    }
   ],
   "source": [
    "195-181"
   ]
  },
  {
   "cell_type": "code",
   "execution_count": null,
   "metadata": {},
   "outputs": [],
   "source": []
  }
 ],
 "metadata": {
  "kernelspec": {
   "display_name": "Python 3",
   "language": "python",
   "name": "python3"
  },
  "language_info": {
   "codemirror_mode": {
    "name": "ipython",
    "version": 3
   },
   "file_extension": ".py",
   "mimetype": "text/x-python",
   "name": "python",
   "nbconvert_exporter": "python",
   "pygments_lexer": "ipython3",
   "version": "3.7.7"
  }
 },
 "nbformat": 4,
 "nbformat_minor": 4
}
