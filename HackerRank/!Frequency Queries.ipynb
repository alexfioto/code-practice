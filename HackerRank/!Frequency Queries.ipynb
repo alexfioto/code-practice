{
 "cells": [
  {
   "cell_type": "markdown",
   "metadata": {},
   "source": [
    "https://www.hackerrank.com/challenges/frequency-queries/problem?h_l=interview&playlist_slugs%5B%5D=interview-preparation-kit&playlist_slugs%5B%5D=dictionaries-hashmaps&h_r=next-challenge&h_v=zen"
   ]
  },
  {
   "cell_type": "code",
   "execution_count": 63,
   "metadata": {},
   "outputs": [],
   "source": [
    "def freqQuery(queries):\n",
    "    from collections import defaultdict\n",
    "    d1 = defaultdict(int)\n",
    "    d2 = defaultdict(int)\n",
    "    output = []\n",
    "    for q in queries:\n",
    "        if q[0] == 1:\n",
    "            d1[q[1]] += 1\n",
    "            d2[d1[q[1]]] += 1 #New line\n",
    "        elif q[0] == 2:\n",
    "            if d1[q[1]] > 0:\n",
    "                d1[q[1]] -= 1\n",
    "                d2[d1[q[1]]] -= 1 # New Line\n",
    "                \n",
    "        else:\n",
    "            if q[1] in d2:\n",
    "                output.append(1)\n",
    "            else:\n",
    "                output.append(0)\n",
    "#             check=False\n",
    "#             for key, value in d1.items():\n",
    "#                 if q[1] == value:\n",
    "#                     check = True\n",
    "#                     output.append(1)\n",
    "#                     break\n",
    "#             if not check:\n",
    "#                 output.append(0)\n",
    "            \n",
    "        #print(d)\n",
    "    return output\n",
    "        \n",
    "            "
   ]
  },
  {
   "cell_type": "code",
   "execution_count": 58,
   "metadata": {},
   "outputs": [
    {
     "data": {
      "text/plain": [
       "[0, 1]"
      ]
     },
     "execution_count": 58,
     "metadata": {},
     "output_type": "execute_result"
    }
   ],
   "source": [
    "freqQuery([(1,1), (2,2), (3,2), (1,1), (1,1), (2,1), (3,2)])"
   ]
  },
  {
   "cell_type": "code",
   "execution_count": 59,
   "metadata": {},
   "outputs": [],
   "source": [
    "from collections import defaultdict\n",
    "test = defaultdict(int)"
   ]
  },
  {
   "cell_type": "code",
   "execution_count": 60,
   "metadata": {},
   "outputs": [
    {
     "data": {
      "text/plain": [
       "[0, 1]"
      ]
     },
     "execution_count": 60,
     "metadata": {},
     "output_type": "execute_result"
    }
   ],
   "source": [
    "freqQuery([(1,5),(1,6),(3,2),(1,10),(1,10),(1,6),(2,5),(3,2)])"
   ]
  },
  {
   "cell_type": "code",
   "execution_count": 62,
   "metadata": {},
   "outputs": [
    {
     "data": {
      "text/plain": [
       "[0, 1]"
      ]
     },
     "execution_count": 62,
     "metadata": {},
     "output_type": "execute_result"
    }
   ],
   "source": [
    "freqQuery([(3,4), (2, 1003), (1,16), (3,1)])"
   ]
  },
  {
   "cell_type": "code",
   "execution_count": null,
   "metadata": {},
   "outputs": [],
   "source": []
  }
 ],
 "metadata": {
  "kernelspec": {
   "display_name": "Python 3",
   "language": "python",
   "name": "python3"
  },
  "language_info": {
   "codemirror_mode": {
    "name": "ipython",
    "version": 3
   },
   "file_extension": ".py",
   "mimetype": "text/x-python",
   "name": "python",
   "nbconvert_exporter": "python",
   "pygments_lexer": "ipython3",
   "version": "3.7.7"
  }
 },
 "nbformat": 4,
 "nbformat_minor": 4
}
