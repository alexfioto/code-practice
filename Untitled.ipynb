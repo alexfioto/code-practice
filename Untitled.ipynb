{
 "cells": [
  {
   "cell_type": "code",
   "execution_count": 1,
   "metadata": {},
   "outputs": [],
   "source": [
    "import pandas as pd"
   ]
  },
  {
   "cell_type": "code",
   "execution_count": 2,
   "metadata": {},
   "outputs": [
    {
     "data": {
      "text/plain": [
       "'/Users/alexander.fioto/github/code-practice'"
      ]
     },
     "execution_count": 2,
     "metadata": {},
     "output_type": "execute_result"
    }
   ],
   "source": [
    "pwd"
   ]
  },
  {
   "cell_type": "code",
   "execution_count": 3,
   "metadata": {},
   "outputs": [],
   "source": [
    "df = pd.read_csv('/Users/alexander.fioto/datasets/Imagur/tr2_devices.csv')"
   ]
  },
  {
   "cell_type": "code",
   "execution_count": 88,
   "metadata": {},
   "outputs": [
    {
     "data": {
      "text/html": [
       "<div>\n",
       "<style scoped>\n",
       "    .dataframe tbody tr th:only-of-type {\n",
       "        vertical-align: middle;\n",
       "    }\n",
       "\n",
       "    .dataframe tbody tr th {\n",
       "        vertical-align: top;\n",
       "    }\n",
       "\n",
       "    .dataframe thead th {\n",
       "        text-align: right;\n",
       "    }\n",
       "</style>\n",
       "<table border=\"1\" class=\"dataframe\">\n",
       "  <thead>\n",
       "    <tr style=\"text-align: right;\">\n",
       "      <th></th>\n",
       "      <th>country</th>\n",
       "      <th>OS</th>\n",
       "      <th>OS_Version</th>\n",
       "      <th>category</th>\n",
       "      <th>brand_name</th>\n",
       "      <th>model_name</th>\n",
       "      <th>marketing_name</th>\n",
       "      <th>OS_hardware_model</th>\n",
       "      <th>num_players</th>\n",
       "    </tr>\n",
       "  </thead>\n",
       "  <tbody>\n",
       "    <tr>\n",
       "      <th>0</th>\n",
       "      <td>India</td>\n",
       "      <td>ANDROID</td>\n",
       "      <td>8.1.0</td>\n",
       "      <td>mobile</td>\n",
       "      <td>Vivo</td>\n",
       "      <td>1820</td>\n",
       "      <td>Y91C</td>\n",
       "      <td>vivo 1820</td>\n",
       "      <td>533476</td>\n",
       "    </tr>\n",
       "    <tr>\n",
       "      <th>1</th>\n",
       "      <td>India</td>\n",
       "      <td>ANDROID</td>\n",
       "      <td>9</td>\n",
       "      <td>mobile</td>\n",
       "      <td>Vivo</td>\n",
       "      <td>1904</td>\n",
       "      <td>Y12</td>\n",
       "      <td>vivo 1904</td>\n",
       "      <td>323638</td>\n",
       "    </tr>\n",
       "    <tr>\n",
       "      <th>2</th>\n",
       "      <td>India</td>\n",
       "      <td>ANDROID</td>\n",
       "      <td>9</td>\n",
       "      <td>mobile</td>\n",
       "      <td>Vivo</td>\n",
       "      <td>1906</td>\n",
       "      <td>Y11 (2019)</td>\n",
       "      <td>vivo 1906</td>\n",
       "      <td>264567</td>\n",
       "    </tr>\n",
       "    <tr>\n",
       "      <th>3</th>\n",
       "      <td>India</td>\n",
       "      <td>ANDROID</td>\n",
       "      <td>9</td>\n",
       "      <td>mobile</td>\n",
       "      <td>Vivo</td>\n",
       "      <td>1901</td>\n",
       "      <td>Y15</td>\n",
       "      <td>vivo 1901</td>\n",
       "      <td>254156</td>\n",
       "    </tr>\n",
       "    <tr>\n",
       "      <th>4</th>\n",
       "      <td>India</td>\n",
       "      <td>ANDROID</td>\n",
       "      <td>8.1.0</td>\n",
       "      <td>mobile</td>\n",
       "      <td>OPPO</td>\n",
       "      <td>CPH1909</td>\n",
       "      <td>A5s</td>\n",
       "      <td>CPH1909</td>\n",
       "      <td>249745</td>\n",
       "    </tr>\n",
       "  </tbody>\n",
       "</table>\n",
       "</div>"
      ],
      "text/plain": [
       "  country       OS OS_Version category brand_name model_name marketing_name  \\\n",
       "0   India  ANDROID      8.1.0   mobile       Vivo       1820           Y91C   \n",
       "1   India  ANDROID          9   mobile       Vivo       1904            Y12   \n",
       "2   India  ANDROID          9   mobile       Vivo       1906     Y11 (2019)   \n",
       "3   India  ANDROID          9   mobile       Vivo       1901            Y15   \n",
       "4   India  ANDROID      8.1.0   mobile       OPPO    CPH1909            A5s   \n",
       "\n",
       "  OS_hardware_model  num_players  \n",
       "0         vivo 1820       533476  \n",
       "1         vivo 1904       323638  \n",
       "2         vivo 1906       264567  \n",
       "3         vivo 1901       254156  \n",
       "4           CPH1909       249745  "
      ]
     },
     "execution_count": 88,
     "metadata": {},
     "output_type": "execute_result"
    }
   ],
   "source": [
    "df.head()"
   ]
  },
  {
   "cell_type": "code",
   "execution_count": 12,
   "metadata": {},
   "outputs": [
    {
     "data": {
      "text/html": [
       "<div>\n",
       "<style scoped>\n",
       "    .dataframe tbody tr th:only-of-type {\n",
       "        vertical-align: middle;\n",
       "    }\n",
       "\n",
       "    .dataframe tbody tr th {\n",
       "        vertical-align: top;\n",
       "    }\n",
       "\n",
       "    .dataframe thead th {\n",
       "        text-align: right;\n",
       "    }\n",
       "</style>\n",
       "<table border=\"1\" class=\"dataframe\">\n",
       "  <thead>\n",
       "    <tr style=\"text-align: right;\">\n",
       "      <th></th>\n",
       "      <th>num_players</th>\n",
       "    </tr>\n",
       "    <tr>\n",
       "      <th>country</th>\n",
       "      <th></th>\n",
       "    </tr>\n",
       "  </thead>\n",
       "  <tbody>\n",
       "    <tr>\n",
       "      <th>India</th>\n",
       "      <td>15191917</td>\n",
       "    </tr>\n",
       "    <tr>\n",
       "      <th>United States</th>\n",
       "      <td>2108644</td>\n",
       "    </tr>\n",
       "    <tr>\n",
       "      <th>Philippines</th>\n",
       "      <td>1089406</td>\n",
       "    </tr>\n",
       "    <tr>\n",
       "      <th>Pakistan</th>\n",
       "      <td>921200</td>\n",
       "    </tr>\n",
       "    <tr>\n",
       "      <th>Indonesia</th>\n",
       "      <td>764901</td>\n",
       "    </tr>\n",
       "    <tr>\n",
       "      <th>...</th>\n",
       "      <td>...</td>\n",
       "    </tr>\n",
       "    <tr>\n",
       "      <th>Norfolk Island</th>\n",
       "      <td>4</td>\n",
       "    </tr>\n",
       "    <tr>\n",
       "      <th>North Korea</th>\n",
       "      <td>2</td>\n",
       "    </tr>\n",
       "    <tr>\n",
       "      <th>St. Helena</th>\n",
       "      <td>2</td>\n",
       "    </tr>\n",
       "    <tr>\n",
       "      <th>Nauru</th>\n",
       "      <td>1</td>\n",
       "    </tr>\n",
       "    <tr>\n",
       "      <th>Isle of Man</th>\n",
       "      <td>1</td>\n",
       "    </tr>\n",
       "  </tbody>\n",
       "</table>\n",
       "<p>238 rows × 1 columns</p>\n",
       "</div>"
      ],
      "text/plain": [
       "                num_players\n",
       "country                    \n",
       "India              15191917\n",
       "United States       2108644\n",
       "Philippines         1089406\n",
       "Pakistan             921200\n",
       "Indonesia            764901\n",
       "...                     ...\n",
       "Norfolk Island            4\n",
       "North Korea               2\n",
       "St. Helena                2\n",
       "Nauru                     1\n",
       "Isle of Man               1\n",
       "\n",
       "[238 rows x 1 columns]"
      ]
     },
     "execution_count": 12,
     "metadata": {},
     "output_type": "execute_result"
    }
   ],
   "source": [
    "df.groupby('country').sum().sort_values('num_players', ascending=False)"
   ]
  },
  {
   "cell_type": "code",
   "execution_count": 63,
   "metadata": {},
   "outputs": [],
   "source": [
    "india = df[df['country']=='India']"
   ]
  },
  {
   "cell_type": "code",
   "execution_count": 64,
   "metadata": {},
   "outputs": [
    {
     "data": {
      "text/plain": [
       "15830"
      ]
     },
     "execution_count": 64,
     "metadata": {},
     "output_type": "execute_result"
    }
   ],
   "source": [
    "len(list(india['OS_Version']))"
   ]
  },
  {
   "cell_type": "code",
   "execution_count": 65,
   "metadata": {},
   "outputs": [
    {
     "data": {
      "text/html": [
       "<div>\n",
       "<style scoped>\n",
       "    .dataframe tbody tr th:only-of-type {\n",
       "        vertical-align: middle;\n",
       "    }\n",
       "\n",
       "    .dataframe tbody tr th {\n",
       "        vertical-align: top;\n",
       "    }\n",
       "\n",
       "    .dataframe thead th {\n",
       "        text-align: right;\n",
       "    }\n",
       "</style>\n",
       "<table border=\"1\" class=\"dataframe\">\n",
       "  <thead>\n",
       "    <tr style=\"text-align: right;\">\n",
       "      <th></th>\n",
       "      <th>num_players</th>\n",
       "    </tr>\n",
       "    <tr>\n",
       "      <th>OS_Version</th>\n",
       "      <th></th>\n",
       "    </tr>\n",
       "  </thead>\n",
       "  <tbody>\n",
       "    <tr>\n",
       "      <th>9</th>\n",
       "      <td>4499484</td>\n",
       "    </tr>\n",
       "    <tr>\n",
       "      <th>10</th>\n",
       "      <td>4021885</td>\n",
       "    </tr>\n",
       "    <tr>\n",
       "      <th>8.1.0</th>\n",
       "      <td>3094868</td>\n",
       "    </tr>\n",
       "    <tr>\n",
       "      <th>6.0.1</th>\n",
       "      <td>736045</td>\n",
       "    </tr>\n",
       "    <tr>\n",
       "      <th>5.1.1</th>\n",
       "      <td>587336</td>\n",
       "    </tr>\n",
       "    <tr>\n",
       "      <th>7.0</th>\n",
       "      <td>543999</td>\n",
       "    </tr>\n",
       "    <tr>\n",
       "      <th>7.1.2</th>\n",
       "      <td>373851</td>\n",
       "    </tr>\n",
       "    <tr>\n",
       "      <th>7.1.1</th>\n",
       "      <td>334735</td>\n",
       "    </tr>\n",
       "    <tr>\n",
       "      <th>8.0.0</th>\n",
       "      <td>243757</td>\n",
       "    </tr>\n",
       "    <tr>\n",
       "      <th>6.0</th>\n",
       "      <td>239250</td>\n",
       "    </tr>\n",
       "    <tr>\n",
       "      <th>5.1</th>\n",
       "      <td>120695</td>\n",
       "    </tr>\n",
       "    <tr>\n",
       "      <th>14.2</th>\n",
       "      <td>65040</td>\n",
       "    </tr>\n",
       "    <tr>\n",
       "      <th>4.4.4</th>\n",
       "      <td>51226</td>\n",
       "    </tr>\n",
       "    <tr>\n",
       "      <th>5.0.2</th>\n",
       "      <td>46911</td>\n",
       "    </tr>\n",
       "    <tr>\n",
       "      <th>4.4.2</th>\n",
       "      <td>42616</td>\n",
       "    </tr>\n",
       "    <tr>\n",
       "      <th>11</th>\n",
       "      <td>22631</td>\n",
       "    </tr>\n",
       "    <tr>\n",
       "      <th>14.1</th>\n",
       "      <td>21949</td>\n",
       "    </tr>\n",
       "    <tr>\n",
       "      <th>14.0.1</th>\n",
       "      <td>12810</td>\n",
       "    </tr>\n",
       "    <tr>\n",
       "      <th>12.4.8</th>\n",
       "      <td>12677</td>\n",
       "    </tr>\n",
       "    <tr>\n",
       "      <th>5.0</th>\n",
       "      <td>11272</td>\n",
       "    </tr>\n",
       "    <tr>\n",
       "      <th>12.4.9</th>\n",
       "      <td>10647</td>\n",
       "    </tr>\n",
       "    <tr>\n",
       "      <th>13.7</th>\n",
       "      <td>9524</td>\n",
       "    </tr>\n",
       "    <tr>\n",
       "      <th>9.3.5</th>\n",
       "      <td>8828</td>\n",
       "    </tr>\n",
       "    <tr>\n",
       "      <th>13.6.1</th>\n",
       "      <td>7006</td>\n",
       "    </tr>\n",
       "    <tr>\n",
       "      <th>13.5.1</th>\n",
       "      <td>6393</td>\n",
       "    </tr>\n",
       "  </tbody>\n",
       "</table>\n",
       "</div>"
      ],
      "text/plain": [
       "            num_players\n",
       "OS_Version             \n",
       "9               4499484\n",
       "10              4021885\n",
       "8.1.0           3094868\n",
       "6.0.1            736045\n",
       "5.1.1            587336\n",
       "7.0              543999\n",
       "7.1.2            373851\n",
       "7.1.1            334735\n",
       "8.0.0            243757\n",
       "6.0              239250\n",
       "5.1              120695\n",
       "14.2              65040\n",
       "4.4.4             51226\n",
       "5.0.2             46911\n",
       "4.4.2             42616\n",
       "11                22631\n",
       "14.1              21949\n",
       "14.0.1            12810\n",
       "12.4.8            12677\n",
       "5.0               11272\n",
       "12.4.9            10647\n",
       "13.7               9524\n",
       "9.3.5              8828\n",
       "13.6.1             7006\n",
       "13.5.1             6393"
      ]
     },
     "execution_count": 65,
     "metadata": {},
     "output_type": "execute_result"
    }
   ],
   "source": [
    "india.groupby('OS_Version').sum().sort_values(by='num_players', ascending=False).head(25)"
   ]
  },
  {
   "cell_type": "code",
   "execution_count": 66,
   "metadata": {},
   "outputs": [
    {
     "name": "stderr",
     "output_type": "stream",
     "text": [
      "/Users/alexander.fioto/opt/anaconda3/lib/python3.7/site-packages/ipykernel_launcher.py:1: SettingWithCopyWarning: \n",
      "A value is trying to be set on a copy of a slice from a DataFrame.\n",
      "Try using .loc[row_indexer,col_indexer] = value instead\n",
      "\n",
      "See the caveats in the documentation: https://pandas.pydata.org/pandas-docs/stable/user_guide/indexing.html#returning-a-view-versus-a-copy\n",
      "  \"\"\"Entry point for launching an IPython kernel.\n"
     ]
    }
   ],
   "source": [
    "india['OS_Main_Version'] = india['OS_Version'].apply(lambda x: str(x)[0])"
   ]
  },
  {
   "cell_type": "code",
   "execution_count": 76,
   "metadata": {},
   "outputs": [
    {
     "data": {
      "text/plain": [
       "1    3412\n",
       "4    2517\n",
       "6    2330\n",
       "5    2091\n",
       "7    2026\n",
       "8    1839\n",
       "9    1583\n",
       "M      25\n",
       "A       3\n",
       "Q       1\n",
       "o       1\n",
       "n       1\n",
       "P       1\n",
       "Name: OS_Main_Version, dtype: int64"
      ]
     },
     "execution_count": 76,
     "metadata": {},
     "output_type": "execute_result"
    }
   ],
   "source": [
    "india['OS_Main_Version'].value_counts()"
   ]
  },
  {
   "cell_type": "code",
   "execution_count": 68,
   "metadata": {},
   "outputs": [],
   "source": [
    "def to_int(x):\n",
    "    try:\n",
    "        return int(x)\n",
    "    except:\n",
    "        return x"
   ]
  },
  {
   "cell_type": "code",
   "execution_count": 52,
   "metadata": {},
   "outputs": [
    {
     "name": "stderr",
     "output_type": "stream",
     "text": [
      "/Users/alexander.fioto/opt/anaconda3/lib/python3.7/site-packages/ipykernel_launcher.py:1: SettingWithCopyWarning: \n",
      "A value is trying to be set on a copy of a slice from a DataFrame.\n",
      "Try using .loc[row_indexer,col_indexer] = value instead\n",
      "\n",
      "See the caveats in the documentation: https://pandas.pydata.org/pandas-docs/stable/user_guide/indexing.html#returning-a-view-versus-a-copy\n",
      "  \"\"\"Entry point for launching an IPython kernel.\n"
     ]
    }
   ],
   "source": [
    "india"
   ]
  },
  {
   "cell_type": "code",
   "execution_count": 82,
   "metadata": {},
   "outputs": [],
   "source": [
    "india_clean = india[~india['OS_Main_Version'].isin([\"M\", 'A', 'Q', 'o', 'n', 'p', 'P'])]"
   ]
  },
  {
   "cell_type": "code",
   "execution_count": 87,
   "metadata": {},
   "outputs": [
    {
     "data": {
      "image/png": "[encoded data removed]",
      "text/plain": [
       "<Figure size 432x288 with 1 Axes>"
      ]
     },
     "metadata": {
      "needs_background": "light"
     },
     "output_type": "display_data"
    }
   ],
   "source": [
    "india_clean.groupby('OS_Main_Version').sum().plot(kind='bar');"
   ]
  },
  {
   "cell_type": "code",
   "execution_count": null,
   "metadata": {},
   "outputs": [],
   "source": []
  }
 ],
 "metadata": {
  "kernelspec": {
   "display_name": "Python 3",
   "language": "python",
   "name": "python3"
  },
  "language_info": {
   "codemirror_mode": {
    "name": "ipython",
    "version": 3
   },
   "file_extension": ".py",
   "mimetype": "text/x-python",
   "name": "python",
   "nbconvert_exporter": "python",
   "pygments_lexer": "ipython3",
   "version": "3.7.7"
  }
 },
 "nbformat": 4,
 "nbformat_minor": 4
}
