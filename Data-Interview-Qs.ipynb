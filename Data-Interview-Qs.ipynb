{
 "cells": [
  {
   "cell_type": "code",
   "execution_count": 2,
   "metadata": {},
   "outputs": [
    {
     "data": {
      "application/javascript": [
       "document.title='Public Github'\n"
      ],
      "text/plain": [
       "<IPython.core.display.Javascript object>"
      ]
     },
     "metadata": {},
     "output_type": "display_data"
    }
   ],
   "source": [
    "%%javascript\n",
    "document.title='Public Github'"
   ]
  },
  {
   "cell_type": "markdown",
   "metadata": {},
   "source": [
    "# Best Selling Products"
   ]
  },
  {
   "cell_type": "markdown",
   "metadata": {},
   "source": [
    "Suppose you’re an analyst for an e-commerce store. You’re trying to identify the top selling products in Q4 2017 by region, and you have 2 tables that you can query:\n",
    "\n",
    "Table: all_products\n",
    "\n",
    "|**Column Name**|**Data Type**|**Description**|\n",
    "|---|---|---|\n",
    "|product_id|integer|id of the product|\n",
    "|product_name|string|name of the product|\n",
    "|sku|integer|universal stock keeping unit number|\n",
    "|distributor_id|integer|id for distributor|\n",
    "\n",
    "Table: orders\n",
    "\n",
    "|**Column Name**|**Data Type**|**Description**|\n",
    "|---|---|---|\n",
    "|date|string|format is \"YYYY-MM-DD\"|\n",
    "|user_id|integer|id of purchaser|\n",
    "|order_id|integer|id of order number|\n",
    "|product_id|integer|id of product|\n",
    "|no_units|integer|number of units sold in the order|\n",
    "|price|integer|price per item|\n",
    "|shipping_id|integer|id of shipment|\n",
    "|region|string|region being shipped to|\n",
    "\n",
    "Using the tables above, write a SQL query to find the top 5 selling products (in terms of total units sold) by region in Q4 of 2017. Include both the distributor id as well as the name of the product in your results.\n",
    "\n"
   ]
  },
  {
   "cell_type": "markdown",
   "metadata": {},
   "source": [
    "\n",
    "```SQL\n",
    "SELECT ap.distributor_id, ap.product_name\n",
    "FROM orders as o\n",
    "LEFT JOIN all_products as ap\n",
    "    ON o.product_id = ap.product_id\n",
    "WHERE o.date BETWEEN '2017-10-01' AND '2017-12-31'\n",
    "GROUPBY o.region\n",
    "ORDER BY SUM(o.no_units) DESC\n",
    "LIMIT 5\n",
    "```"
   ]
  },
  {
   "cell_type": "code",
   "execution_count": null,
   "metadata": {},
   "outputs": [],
   "source": []
  }
 ],
 "metadata": {
  "kernelspec": {
   "display_name": "Python 3",
   "language": "python",
   "name": "python3"
  },
  "language_info": {
   "codemirror_mode": {
    "name": "ipython",
    "version": 3
   },
   "file_extension": ".py",
   "mimetype": "text/x-python",
   "name": "python",
   "nbconvert_exporter": "python",
   "pygments_lexer": "ipython3",
   "version": "3.7.7"
  }
 },
 "nbformat": 4,
 "nbformat_minor": 4
}
