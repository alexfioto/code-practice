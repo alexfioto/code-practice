{
 "cells": [
  {
   "cell_type": "markdown",
   "metadata": {
    "toc": true
   },
   "source": [
    "<h1>Table of Contents<span class=\"tocSkip\"></span></h1>\n",
    "<div class=\"toc\"><ul class=\"toc-item\"><li><span><a href=\"#Mortage-Default-Prediction\" data-toc-modified-id=\"Mortage-Default-Prediction-1\"><span class=\"toc-item-num\">1&nbsp;&nbsp;</span>Mortage Default Prediction</a></span></li></ul></div>"
   ]
  },
  {
   "cell_type": "markdown",
   "metadata": {},
   "source": [
    "## Mortage Default Prediction"
   ]
  },
  {
   "cell_type": "code",
   "execution_count": 11,
   "metadata": {},
   "outputs": [
    {
     "data": {
      "text/plain": [
       "[Row(ID=100522.0, Income=43982.0, AppliedOnline='YES', Residence='Owner Occupier', YearCurrentAddress=13.0, YearsCurrentEmployer=11.0, NumberOfCards=2.0, CCDebt=1055.0, Loans=0.0, LoanAmount=9405.0, SalePrice=500000, Location=110, MortgageDefault='NO'),\n",
       " Row(ID=101756.0, Income=59944.0, AppliedOnline='YES', Residence='Owner Occupier', YearCurrentAddress=20.0, YearsCurrentEmployer=11.0, NumberOfCards=2.0, CCDebt=3894.0, Loans=0.0, LoanAmount=9880.0, SalePrice=750000, Location=110, MortgageDefault='NO'),\n",
       " Row(ID=101354.0, Income=57718.0, AppliedOnline='YES', Residence='Owner Occupier', YearCurrentAddress=25.0, YearsCurrentEmployer=16.0, NumberOfCards=2.0, CCDebt=1555.0, Loans=1.0, LoanAmount=6285.0, SalePrice=155000, Location=130, MortgageDefault='YES'),\n",
       " Row(ID=100512.0, Income=45621.0, AppliedOnline='YES', Residence='Owner Occupier', YearCurrentAddress=1.0, YearsCurrentEmployer=19.0, NumberOfCards=1.0, CCDebt=1878.0, Loans=0.0, LoanAmount=9260.0, SalePrice=195000, Location=100, MortgageDefault='YES'),\n",
       " Row(ID=100537.0, Income=45081.0, AppliedOnline='NO', Residence='Owner Occupier', YearCurrentAddress=14.0, YearsCurrentEmployer=15.0, NumberOfCards=2.0, CCDebt=713.0, Loans=1.0, LoanAmount=8430.0, SalePrice=140000, Location=110, MortgageDefault='NO')]"
      ]
     },
     "execution_count": 11,
     "metadata": {},
     "output_type": "execute_result"
    }
   ],
   "source": [
    "import ibmos2spark\n",
    "# @hidden_cell\n",
    "credentials = {\n",
    "    'endpoint': 'https://s3.eu-geo.objectstorage.service.networklayer.com',\n",
    "    'service_id': 'iam-ServiceId-ddd47da4-acfa-4590-babf-ab051b7f77b6',\n",
    "    'iam_service_endpoint': 'https://iam.eu-gb.bluemix.net/oidc/token',\n",
    "    'api_key': 'kCxdy2mVdTMcTotMupUlOh_cc6Wrynmh4b7kIAIZ98AU'\n",
    "}\n",
    "\n",
    "configuration_name = 'os_f99601c62bd54655b8bdd838cc2ad12e_configs'\n",
    "cos = ibmos2spark.CloudObjectStorage(sc, credentials, configuration_name, 'bluemix_cos')\n",
    "\n",
    "from pyspark.sql import SparkSession\n",
    "spark = SparkSession.builder.getOrCreate()\n",
    "data = spark.read\\\n",
    "  .format('org.apache.spark.sql.execution.datasources.csv.CSVFileFormat')\\\n",
    "  .option('header', 'true')\\\n",
    "  .option('inferSchema', 'true')\\\n",
    "  .load(cos.url('Mortgage_Training Data.csv', 'pyrtraining-donotdelete-pr-8zy0j2en6j4jea'))\n",
    "data.take(5)\n"
   ]
  },
  {
   "cell_type": "code",
   "execution_count": 12,
   "metadata": {},
   "outputs": [
    {
     "data": {
      "text/html": [
       "<div>\n",
       "<style scoped>\n",
       "    .dataframe tbody tr th:only-of-type {\n",
       "        vertical-align: middle;\n",
       "    }\n",
       "\n",
       "    .dataframe tbody tr th {\n",
       "        vertical-align: top;\n",
       "    }\n",
       "\n",
       "    .dataframe thead th {\n",
       "        text-align: right;\n",
       "    }\n",
       "</style>\n",
       "<table border=\"1\" class=\"dataframe\">\n",
       "  <thead>\n",
       "    <tr style=\"text-align: right;\">\n",
       "      <th></th>\n",
       "      <th>ID</th>\n",
       "      <th>Income</th>\n",
       "      <th>AppliedOnline</th>\n",
       "      <th>Residence</th>\n",
       "      <th>YearCurrentAddress</th>\n",
       "      <th>YearsCurrentEmployer</th>\n",
       "      <th>NumberOfCards</th>\n",
       "      <th>CCDebt</th>\n",
       "      <th>Loans</th>\n",
       "      <th>LoanAmount</th>\n",
       "      <th>SalePrice</th>\n",
       "      <th>Location</th>\n",
       "      <th>MortgageDefault</th>\n",
       "    </tr>\n",
       "  </thead>\n",
       "  <tbody>\n",
       "    <tr>\n",
       "      <th>0</th>\n",
       "      <td>100522.0</td>\n",
       "      <td>43982.0</td>\n",
       "      <td>YES</td>\n",
       "      <td>Owner Occupier</td>\n",
       "      <td>13.0</td>\n",
       "      <td>11.0</td>\n",
       "      <td>2.0</td>\n",
       "      <td>1055.0</td>\n",
       "      <td>0.0</td>\n",
       "      <td>9405.0</td>\n",
       "      <td>500000</td>\n",
       "      <td>110</td>\n",
       "      <td>NO</td>\n",
       "    </tr>\n",
       "    <tr>\n",
       "      <th>1</th>\n",
       "      <td>101756.0</td>\n",
       "      <td>59944.0</td>\n",
       "      <td>YES</td>\n",
       "      <td>Owner Occupier</td>\n",
       "      <td>20.0</td>\n",
       "      <td>11.0</td>\n",
       "      <td>2.0</td>\n",
       "      <td>3894.0</td>\n",
       "      <td>0.0</td>\n",
       "      <td>9880.0</td>\n",
       "      <td>750000</td>\n",
       "      <td>110</td>\n",
       "      <td>NO</td>\n",
       "    </tr>\n",
       "    <tr>\n",
       "      <th>2</th>\n",
       "      <td>101354.0</td>\n",
       "      <td>57718.0</td>\n",
       "      <td>YES</td>\n",
       "      <td>Owner Occupier</td>\n",
       "      <td>25.0</td>\n",
       "      <td>16.0</td>\n",
       "      <td>2.0</td>\n",
       "      <td>1555.0</td>\n",
       "      <td>1.0</td>\n",
       "      <td>6285.0</td>\n",
       "      <td>155000</td>\n",
       "      <td>130</td>\n",
       "      <td>YES</td>\n",
       "    </tr>\n",
       "    <tr>\n",
       "      <th>3</th>\n",
       "      <td>100512.0</td>\n",
       "      <td>45621.0</td>\n",
       "      <td>YES</td>\n",
       "      <td>Owner Occupier</td>\n",
       "      <td>1.0</td>\n",
       "      <td>19.0</td>\n",
       "      <td>1.0</td>\n",
       "      <td>1878.0</td>\n",
       "      <td>0.0</td>\n",
       "      <td>9260.0</td>\n",
       "      <td>195000</td>\n",
       "      <td>100</td>\n",
       "      <td>YES</td>\n",
       "    </tr>\n",
       "    <tr>\n",
       "      <th>4</th>\n",
       "      <td>100537.0</td>\n",
       "      <td>45081.0</td>\n",
       "      <td>NO</td>\n",
       "      <td>Owner Occupier</td>\n",
       "      <td>14.0</td>\n",
       "      <td>15.0</td>\n",
       "      <td>2.0</td>\n",
       "      <td>713.0</td>\n",
       "      <td>1.0</td>\n",
       "      <td>8430.0</td>\n",
       "      <td>140000</td>\n",
       "      <td>110</td>\n",
       "      <td>NO</td>\n",
       "    </tr>\n",
       "  </tbody>\n",
       "</table>\n",
       "</div>"
      ],
      "text/plain": [
       "         ID   Income AppliedOnline       Residence  YearCurrentAddress  \\\n",
       "0  100522.0  43982.0           YES  Owner Occupier                13.0   \n",
       "1  101756.0  59944.0           YES  Owner Occupier                20.0   \n",
       "2  101354.0  57718.0           YES  Owner Occupier                25.0   \n",
       "3  100512.0  45621.0           YES  Owner Occupier                 1.0   \n",
       "4  100537.0  45081.0            NO  Owner Occupier                14.0   \n",
       "\n",
       "   YearsCurrentEmployer  NumberOfCards  CCDebt  Loans  LoanAmount  SalePrice  \\\n",
       "0                  11.0            2.0  1055.0    0.0      9405.0     500000   \n",
       "1                  11.0            2.0  3894.0    0.0      9880.0     750000   \n",
       "2                  16.0            2.0  1555.0    1.0      6285.0     155000   \n",
       "3                  19.0            1.0  1878.0    0.0      9260.0     195000   \n",
       "4                  15.0            2.0   713.0    1.0      8430.0     140000   \n",
       "\n",
       "   Location MortgageDefault  \n",
       "0       110              NO  \n",
       "1       110              NO  \n",
       "2       130             YES  \n",
       "3       100             YES  \n",
       "4       110              NO  "
      ]
     },
     "execution_count": 12,
     "metadata": {},
     "output_type": "execute_result"
    }
   ],
   "source": [
    "pandasDF=data.toPandas()\n",
    "pandasDF.head()"
   ]
  },
  {
   "cell_type": "code",
   "execution_count": 13,
   "metadata": {},
   "outputs": [
    {
     "data": {
      "text/plain": [
       "[('ID', 'double'),\n",
       " ('Income', 'double'),\n",
       " ('AppliedOnline', 'string'),\n",
       " ('Residence', 'string'),\n",
       " ('YearCurrentAddress', 'double'),\n",
       " ('YearsCurrentEmployer', 'double'),\n",
       " ('NumberOfCards', 'double'),\n",
       " ('CCDebt', 'double'),\n",
       " ('Loans', 'double'),\n",
       " ('LoanAmount', 'double'),\n",
       " ('SalePrice', 'int'),\n",
       " ('Location', 'int'),\n",
       " ('MortgageDefault', 'string')]"
      ]
     },
     "execution_count": 13,
     "metadata": {},
     "output_type": "execute_result"
    }
   ],
   "source": [
    "data.dtypes"
   ]
  },
  {
   "cell_type": "code",
   "execution_count": 18,
   "metadata": {},
   "outputs": [],
   "source": [
    "from pyspark.ml.feature import OneHotEncoder, StringIndexer, VectorIndexer, IndexToString\n",
    "from pyspark.ml import Pipeline\n",
    "from pyspark.ml.feature import VectorAssembler\n",
    "from pyspark.ml.classification import RandomForestClassifier\n",
    "\n",
    "\n",
    "SI1 = StringIndexer(inputCol='AppliedOnline', outputCol='AppliedOnlineEncoded')\n",
    "SI2 = StringIndexer(inputCol='Residence',outputCol='ResidenceEncoded')\n",
    "SI3 = StringIndexer(inputCol='Location',outputCol='LocationEncoded')\n",
    "labelIndexer = StringIndexer(inputCol='MortgageDefault', outputCol='label').fit(data)\n",
    "\n",
    "OH1 = OneHotEncoder(inputCol=\"AppliedOnlineEncoded\", outputCol=\"AppliedOnlineEncoded\"+\"classVec\")\n",
    "OH2 = OneHotEncoder(inputCol=\"ResidenceEncoded\", outputCol=\"ResidenceEncoded\"+\"classVec\")\n",
    "OH3 = OneHotEncoder(inputCol=\"LocationEncoded\", outputCol=\"LocationEncoded\"+\"classVec\")\n",
    "\n",
    "assembler = VectorAssembler(inputCols=[\"Income\", \"AppliedOnlineEncoded\"+\"classVec\",\\\n",
    "                                       \"ResidenceEncoded\"+\"classVec\", \"YearCurrentAddress\",\\\n",
    "                                       \"YearsCurrentEmployer\", \"NumberOfCards\", \"CCDebt\", \\\n",
    "                                       \"Loans\", \"LoanAmount\", \"SalePrice\", \"LocationEncoded\"+\"classVec\"],\\\n",
    "                            outputCol=\"features\")"
   ]
  },
  {
   "cell_type": "code",
   "execution_count": 19,
   "metadata": {},
   "outputs": [],
   "source": [
    "rf=RandomForestClassifier(labelCol=\"label\", featuresCol=\"features\")\n",
    "\n",
    "labelConverter = IndexToString(inputCol=\"prediction\", outputCol=\"predictedLabel\", labels=labelIndexer.labels)\n",
    "\n",
    "pipeline = Pipeline(stages=[SI1,SI2,SI3,labelIndexer,OH1,OH2,OH3,assembler,rf,labelConverter])"
   ]
  },
  {
   "cell_type": "code",
   "execution_count": 20,
   "metadata": {},
   "outputs": [
    {
     "data": {
      "text/plain": [
       "DataFrame[ID: double, Income: double, AppliedOnline: string, Residence: string, YearCurrentAddress: double, YearsCurrentEmployer: double, NumberOfCards: double, CCDebt: double, Loans: double, LoanAmount: double, SalePrice: int, Location: int, MortgageDefault: string]"
      ]
     },
     "execution_count": 20,
     "metadata": {},
     "output_type": "execute_result"
    }
   ],
   "source": [
    "train, test = data.randomSplit([0.8,0.2], seed=6)\n",
    "train.cache()\n",
    "test.cache()"
   ]
  },
  {
   "cell_type": "code",
   "execution_count": 21,
   "metadata": {},
   "outputs": [],
   "source": [
    "model = pipeline.fit(train)"
   ]
  },
  {
   "cell_type": "code",
   "execution_count": 27,
   "metadata": {},
   "outputs": [
    {
     "name": "stdout",
     "output_type": "stream",
     "text": [
      "root\n",
      " |-- ID: double (nullable = true)\n",
      " |-- Income: double (nullable = true)\n",
      " |-- AppliedOnline: string (nullable = true)\n",
      " |-- Residence: string (nullable = true)\n",
      " |-- YearCurrentAddress: double (nullable = true)\n",
      " |-- YearsCurrentEmployer: double (nullable = true)\n",
      " |-- NumberOfCards: double (nullable = true)\n",
      " |-- CCDebt: double (nullable = true)\n",
      " |-- Loans: double (nullable = true)\n",
      " |-- LoanAmount: double (nullable = true)\n",
      " |-- SalePrice: integer (nullable = true)\n",
      " |-- Location: integer (nullable = true)\n",
      " |-- MortgageDefault: string (nullable = true)\n",
      " |-- AppliedOnlineEncoded: double (nullable = false)\n",
      " |-- ResidenceEncoded: double (nullable = false)\n",
      " |-- LocationEncoded: double (nullable = false)\n",
      " |-- label: double (nullable = false)\n",
      " |-- AppliedOnlineEncodedclassVec: vector (nullable = true)\n",
      " |-- ResidenceEncodedclassVec: vector (nullable = true)\n",
      " |-- LocationEncodedclassVec: vector (nullable = true)\n",
      " |-- features: vector (nullable = true)\n",
      " |-- rawPrediction: vector (nullable = true)\n",
      " |-- probability: vector (nullable = true)\n",
      " |-- prediction: double (nullable = false)\n",
      " |-- predictedLabel: string (nullable = true)\n",
      "\n"
     ]
    }
   ],
   "source": [
    "results=model.transform(test)\n",
    "results.printSchema()"
   ]
  },
  {
   "cell_type": "code",
   "execution_count": null,
   "metadata": {},
   "outputs": [],
   "source": []
  }
 ],
 "metadata": {
  "kernelspec": {
   "display_name": "Python [conda env:dsi] *",
   "language": "python",
   "name": "conda-env-dsi-py"
  },
  "language_info": {
   "codemirror_mode": {
    "name": "ipython",
    "version": 3
   },
   "file_extension": ".py",
   "mimetype": "text/x-python",
   "name": "python",
   "nbconvert_exporter": "python",
   "pygments_lexer": "ipython3",
   "version": "3.7.3"
  },
  "toc": {
   "base_numbering": 1,
   "nav_menu": {},
   "number_sections": true,
   "sideBar": true,
   "skip_h1_title": false,
   "title_cell": "Table of Contents",
   "title_sidebar": "Contents",
   "toc_cell": true,
   "toc_position": {},
   "toc_section_display": true,
   "toc_window_display": false
  },
  "varInspector": {
   "cols": {
    "lenName": 16,
    "lenType": 16,
    "lenVar": 40
   },
   "kernels_config": {
    "python": {
     "delete_cmd_postfix": "",
     "delete_cmd_prefix": "del ",
     "library": "var_list.py",
     "varRefreshCmd": "print(var_dic_list())"
    },
    "r": {
     "delete_cmd_postfix": ") ",
     "delete_cmd_prefix": "rm(",
     "library": "var_list.r",
     "varRefreshCmd": "cat(var_dic_list()) "
    }
   },
   "types_to_exclude": [
    "module",
    "function",
    "builtin_function_or_method",
    "instance",
    "_Feature"
   ],
   "window_display": false
  }
 },
 "nbformat": 4,
 "nbformat_minor": 2
}
