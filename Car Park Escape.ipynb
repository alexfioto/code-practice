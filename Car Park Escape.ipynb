{
 "cells": [
  {
   "cell_type": "markdown",
   "metadata": {},
   "source": [
    "# Car Park Escape"
   ]
  },
  {
   "cell_type": "code",
   "execution_count": 1,
   "metadata": {},
   "outputs": [],
   "source": [
    "carpark = [[1, 0, 0, 0, 2],\n",
    "           [0, 0, 0, 0, 0]]"
   ]
  },
  {
   "cell_type": "markdown",
   "metadata": {},
   "source": [
    "Working Out\n",
    "- You start in the most far right position on level 1\n",
    "- You have to move Left 4 places to reach the staircase => \"L4\"\n",
    "- You then go down one flight of stairs => \"D1\"\n",
    "- To escape you have to move Right 4 places => \"R4\""
   ]
  },
  {
   "cell_type": "code",
   "execution_count": 2,
   "metadata": {},
   "outputs": [],
   "source": [
    "result = [\"L4\", \"D1\", \"R4\"]"
   ]
  },
  {
   "cell_type": "code",
   "execution_count": 53,
   "metadata": {},
   "outputs": [],
   "source": [
    "carpark = [[2, 0, 0, 1, 0],\n",
    "           [0, 0, 0, 1, 0],\n",
    "           [0, 0, 0, 0, 0]]\n",
    "result = [\"R3\", \"D2\", \"R1\"]"
   ]
  },
  {
   "cell_type": "code",
   "execution_count": 131,
   "metadata": {},
   "outputs": [],
   "source": [
    "def escape(carpark):\n",
    "    person_idx = carpark[0].index(2)\n",
    "    stair_idx = None\n",
    "    result = []\n",
    "    levels = 1\n",
    "    moved = False\n",
    "    for level in carpark:\n",
    "        move = ''\n",
    "        ones = False\n",
    "        direction = None\n",
    "        for space in level:\n",
    "            if space == 1:\n",
    "                if stair_idx == level.index(space):\n",
    "                    levels += 1\n",
    "                stair_idx = level.index(space)\n",
    "                ones = True\n",
    "        \n",
    "        if not ones:\n",
    "            if moved:\n",
    "                result.append(f'D{levels}')\n",
    "            direction = 4 - person_idx\n",
    "            result.append(f'R{direction}')\n",
    "            \n",
    "        else:\n",
    "            \n",
    "            if moved:\n",
    "                result.append(f'D{levels}')\n",
    "            direction = person_idx - stair_idx   \n",
    "                \n",
    "            if direction > 0:\n",
    "                move += 'L'\n",
    "            elif direction < 0:\n",
    "                move += 'R'\n",
    "\n",
    "            move += str(abs(direction))\n",
    "            result.append(move)\n",
    "            result.append(f'D{levels}')\n",
    "            \n",
    "        person_idx = stair_idx\n",
    "    print(levels)\n",
    "    return result"
   ]
  },
  {
   "cell_type": "code",
   "execution_count": 132,
   "metadata": {},
   "outputs": [
    {
     "name": "stdout",
     "output_type": "stream",
     "text": [
      "2\n"
     ]
    },
    {
     "data": {
      "text/plain": [
       "['R3', 'D1', '0', 'D2', 'R1']"
      ]
     },
     "execution_count": 132,
     "metadata": {},
     "output_type": "execute_result"
    }
   ],
   "source": [
    "escape(carpark)"
   ]
  },
  {
   "cell_type": "code",
   "execution_count": null,
   "metadata": {},
   "outputs": [],
   "source": []
  },
  {
   "cell_type": "code",
   "execution_count": null,
   "metadata": {},
   "outputs": [],
   "source": []
  }
 ],
 "metadata": {
  "kernelspec": {
   "display_name": "Python 3",
   "language": "python",
   "name": "python3"
  },
  "language_info": {
   "codemirror_mode": {
    "name": "ipython",
    "version": 3
   },
   "file_extension": ".py",
   "mimetype": "text/x-python",
   "name": "python",
   "nbconvert_exporter": "python",
   "pygments_lexer": "ipython3",
   "version": "3.7.7"
  }
 },
 "nbformat": 4,
 "nbformat_minor": 4
}
